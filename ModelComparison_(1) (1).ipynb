{
  "nbformat": 4,
  "nbformat_minor": 5,
  "metadata": {
    "kernelspec": {
      "display_name": "Python 3",
      "language": "python",
      "name": "python3"
    },
    "language_info": {
      "codemirror_mode": {
        "name": "ipython",
        "version": 3
      },
      "file_extension": ".py",
      "mimetype": "text/x-python",
      "name": "python",
      "nbconvert_exporter": "python",
      "pygments_lexer": "ipython3",
      "version": "3.7.9"
    },
    "papermill": {
      "default_parameters": {},
      "duration": 48.968382,
      "end_time": "2021-08-10T15:55:24.183040",
      "environment_variables": {},
      "exception": null,
      "input_path": "__notebook__.ipynb",
      "output_path": "__notebook__.ipynb",
      "parameters": {},
      "start_time": "2021-08-10T15:54:35.214658",
      "version": "2.3.2"
    },
    "colab": {
      "provenance": [],
      "collapsed_sections": []
    }
  },
  "cells": [
    {
      "cell_type": "markdown",
      "source": [
        "# **PHISHING EMAIL DETECTOR MODEL COMPARISON**\n",
        "---\n",
        "\n"
      ],
      "metadata": {
        "id": "74aR_7VX53NB"
      },
      "id": "74aR_7VX53NB"
    },
    {
      "cell_type": "markdown",
      "source": [
        "In this notebook we compare different supervized classification models (SVM, KNN, DT, RF, LR, XGB, MultiNB). We compare their training time and performance. We improve the one with highest performance and least training time further using hyperparameters. "
      ],
      "metadata": {
        "id": "376yzE3cE8md"
      },
      "id": "376yzE3cE8md"
    },
    {
      "cell_type": "code",
      "execution_count": null,
      "metadata": {
        "colab": {
          "base_uri": "https://localhost:8080/"
        },
        "id": "YE73cO1-OVIq",
        "outputId": "7afcf9cc-dd48-44c2-9230-67178238dcaf"
      },
      "outputs": [
        {
          "output_type": "stream",
          "name": "stdout",
          "text": [
            "Drive already mounted at /content/gdrive; to attempt to forcibly remount, call drive.mount(\"/content/gdrive\", force_remount=True).\n"
          ]
        }
      ],
      "source": [
        "from google.colab import drive\n",
        "drive.mount('/content/gdrive')"
      ],
      "id": "YE73cO1-OVIq"
    },
    {
      "cell_type": "code",
      "source": [
        "import pandas as pd\n",
        "df=pd.read_csv('/content/gdrive/MyDrive/spam_ham_dataset.csv')\n",
        "df.head()"
      ],
      "metadata": {
        "colab": {
          "base_uri": "https://localhost:8080/",
          "height": 206
        },
        "id": "mam7sf43SSPw",
        "outputId": "b55ca2bf-0977-452c-a021-8e30b2c168be"
      },
      "id": "mam7sf43SSPw",
      "execution_count": null,
      "outputs": [
        {
          "output_type": "execute_result",
          "data": {
            "text/plain": [
              "   Unnamed: 0 label                                               text  \\\n",
              "0         605   ham  Subject: enron methanol ; meter # : 988291\\r\\n...   \n",
              "1        2349   ham  Subject: hpl nom for january 9 , 2001\\r\\n( see...   \n",
              "2        3624   ham  Subject: neon retreat\\r\\nho ho ho , we ' re ar...   \n",
              "3        4685  spam  Subject: photoshop , windows , office . cheap ...   \n",
              "4        2030   ham  Subject: re : indian springs\\r\\nthis deal is t...   \n",
              "\n",
              "   label_num  \n",
              "0          0  \n",
              "1          0  \n",
              "2          0  \n",
              "3          1  \n",
              "4          0  "
            ],
            "text/html": [
              "\n",
              "  <div id=\"df-894d0c1a-2476-4f26-b73e-b19374755748\">\n",
              "    <div class=\"colab-df-container\">\n",
              "      <div>\n",
              "<style scoped>\n",
              "    .dataframe tbody tr th:only-of-type {\n",
              "        vertical-align: middle;\n",
              "    }\n",
              "\n",
              "    .dataframe tbody tr th {\n",
              "        vertical-align: top;\n",
              "    }\n",
              "\n",
              "    .dataframe thead th {\n",
              "        text-align: right;\n",
              "    }\n",
              "</style>\n",
              "<table border=\"1\" class=\"dataframe\">\n",
              "  <thead>\n",
              "    <tr style=\"text-align: right;\">\n",
              "      <th></th>\n",
              "      <th>Unnamed: 0</th>\n",
              "      <th>label</th>\n",
              "      <th>text</th>\n",
              "      <th>label_num</th>\n",
              "    </tr>\n",
              "  </thead>\n",
              "  <tbody>\n",
              "    <tr>\n",
              "      <th>0</th>\n",
              "      <td>605</td>\n",
              "      <td>ham</td>\n",
              "      <td>Subject: enron methanol ; meter # : 988291\\r\\n...</td>\n",
              "      <td>0</td>\n",
              "    </tr>\n",
              "    <tr>\n",
              "      <th>1</th>\n",
              "      <td>2349</td>\n",
              "      <td>ham</td>\n",
              "      <td>Subject: hpl nom for january 9 , 2001\\r\\n( see...</td>\n",
              "      <td>0</td>\n",
              "    </tr>\n",
              "    <tr>\n",
              "      <th>2</th>\n",
              "      <td>3624</td>\n",
              "      <td>ham</td>\n",
              "      <td>Subject: neon retreat\\r\\nho ho ho , we ' re ar...</td>\n",
              "      <td>0</td>\n",
              "    </tr>\n",
              "    <tr>\n",
              "      <th>3</th>\n",
              "      <td>4685</td>\n",
              "      <td>spam</td>\n",
              "      <td>Subject: photoshop , windows , office . cheap ...</td>\n",
              "      <td>1</td>\n",
              "    </tr>\n",
              "    <tr>\n",
              "      <th>4</th>\n",
              "      <td>2030</td>\n",
              "      <td>ham</td>\n",
              "      <td>Subject: re : indian springs\\r\\nthis deal is t...</td>\n",
              "      <td>0</td>\n",
              "    </tr>\n",
              "  </tbody>\n",
              "</table>\n",
              "</div>\n",
              "      <button class=\"colab-df-convert\" onclick=\"convertToInteractive('df-894d0c1a-2476-4f26-b73e-b19374755748')\"\n",
              "              title=\"Convert this dataframe to an interactive table.\"\n",
              "              style=\"display:none;\">\n",
              "        \n",
              "  <svg xmlns=\"http://www.w3.org/2000/svg\" height=\"24px\"viewBox=\"0 0 24 24\"\n",
              "       width=\"24px\">\n",
              "    <path d=\"M0 0h24v24H0V0z\" fill=\"none\"/>\n",
              "    <path d=\"M18.56 5.44l.94 2.06.94-2.06 2.06-.94-2.06-.94-.94-2.06-.94 2.06-2.06.94zm-11 1L8.5 8.5l.94-2.06 2.06-.94-2.06-.94L8.5 2.5l-.94 2.06-2.06.94zm10 10l.94 2.06.94-2.06 2.06-.94-2.06-.94-.94-2.06-.94 2.06-2.06.94z\"/><path d=\"M17.41 7.96l-1.37-1.37c-.4-.4-.92-.59-1.43-.59-.52 0-1.04.2-1.43.59L10.3 9.45l-7.72 7.72c-.78.78-.78 2.05 0 2.83L4 21.41c.39.39.9.59 1.41.59.51 0 1.02-.2 1.41-.59l7.78-7.78 2.81-2.81c.8-.78.8-2.07 0-2.86zM5.41 20L4 18.59l7.72-7.72 1.47 1.35L5.41 20z\"/>\n",
              "  </svg>\n",
              "      </button>\n",
              "      \n",
              "  <style>\n",
              "    .colab-df-container {\n",
              "      display:flex;\n",
              "      flex-wrap:wrap;\n",
              "      gap: 12px;\n",
              "    }\n",
              "\n",
              "    .colab-df-convert {\n",
              "      background-color: #E8F0FE;\n",
              "      border: none;\n",
              "      border-radius: 50%;\n",
              "      cursor: pointer;\n",
              "      display: none;\n",
              "      fill: #1967D2;\n",
              "      height: 32px;\n",
              "      padding: 0 0 0 0;\n",
              "      width: 32px;\n",
              "    }\n",
              "\n",
              "    .colab-df-convert:hover {\n",
              "      background-color: #E2EBFA;\n",
              "      box-shadow: 0px 1px 2px rgba(60, 64, 67, 0.3), 0px 1px 3px 1px rgba(60, 64, 67, 0.15);\n",
              "      fill: #174EA6;\n",
              "    }\n",
              "\n",
              "    [theme=dark] .colab-df-convert {\n",
              "      background-color: #3B4455;\n",
              "      fill: #D2E3FC;\n",
              "    }\n",
              "\n",
              "    [theme=dark] .colab-df-convert:hover {\n",
              "      background-color: #434B5C;\n",
              "      box-shadow: 0px 1px 3px 1px rgba(0, 0, 0, 0.15);\n",
              "      filter: drop-shadow(0px 1px 2px rgba(0, 0, 0, 0.3));\n",
              "      fill: #FFFFFF;\n",
              "    }\n",
              "  </style>\n",
              "\n",
              "      <script>\n",
              "        const buttonEl =\n",
              "          document.querySelector('#df-894d0c1a-2476-4f26-b73e-b19374755748 button.colab-df-convert');\n",
              "        buttonEl.style.display =\n",
              "          google.colab.kernel.accessAllowed ? 'block' : 'none';\n",
              "\n",
              "        async function convertToInteractive(key) {\n",
              "          const element = document.querySelector('#df-894d0c1a-2476-4f26-b73e-b19374755748');\n",
              "          const dataTable =\n",
              "            await google.colab.kernel.invokeFunction('convertToInteractive',\n",
              "                                                     [key], {});\n",
              "          if (!dataTable) return;\n",
              "\n",
              "          const docLinkHtml = 'Like what you see? Visit the ' +\n",
              "            '<a target=\"_blank\" href=https://colab.research.google.com/notebooks/data_table.ipynb>data table notebook</a>'\n",
              "            + ' to learn more about interactive tables.';\n",
              "          element.innerHTML = '';\n",
              "          dataTable['output_type'] = 'display_data';\n",
              "          await google.colab.output.renderOutput(dataTable, element);\n",
              "          const docLink = document.createElement('div');\n",
              "          docLink.innerHTML = docLinkHtml;\n",
              "          element.appendChild(docLink);\n",
              "        }\n",
              "      </script>\n",
              "    </div>\n",
              "  </div>\n",
              "  "
            ]
          },
          "metadata": {},
          "execution_count": 47
        }
      ]
    },
    {
      "cell_type": "markdown",
      "source": [
        "**Loading, data explorating and preprocessing**"
      ],
      "metadata": {
        "papermill": {
          "duration": 0.013127,
          "end_time": "2021-08-10T15:54:40.847958",
          "exception": false,
          "start_time": "2021-08-10T15:54:40.834831",
          "status": "completed"
        },
        "tags": [],
        "id": "veterinary-number"
      },
      "id": "veterinary-number"
    },
    {
      "cell_type": "code",
      "execution_count": null,
      "source": [
        "import numpy as np\n",
        "import pandas as pd\n",
        "import matplotlib.pyplot as plt\n",
        "import seaborn as sns\n",
        "from sklearn.model_selection import train_test_split\n",
        "from sklearn.ensemble import RandomForestClassifier, GradientBoostingClassifier, AdaBoostClassifier\n",
        "from xgboost import XGBClassifier\n",
        "from sklearn.naive_bayes import MultinomialNB\n",
        "from sklearn.naive_bayes import GaussianNB\n",
        "from sklearn.linear_model import LogisticRegression\n",
        "from sklearn.neighbors import KNeighborsClassifier\n",
        "from sklearn.tree import DecisionTreeClassifier\n",
        "from sklearn.svm import LinearSVC, SVC\n",
        "from time import perf_counter\n",
        "import warnings\n",
        "warnings.filterwarnings(action='ignore')"
      ],
      "outputs": [],
      "metadata": {
        "_cell_guid": "b1076dfc-b9ad-4769-8c92-a6c4dae69d19",
        "_uuid": "8f2839f25d086af736a60e9eeb907d3b93b6e0e5",
        "execution": {
          "iopub.execute_input": "2021-08-10T15:54:40.882070Z",
          "iopub.status.busy": "2021-08-10T15:54:40.881306Z",
          "iopub.status.idle": "2021-08-10T15:54:42.590255Z",
          "shell.execute_reply": "2021-08-10T15:54:42.590688Z"
        },
        "papermill": {
          "duration": 1.72956,
          "end_time": "2021-08-10T15:54:42.590970",
          "exception": false,
          "start_time": "2021-08-10T15:54:40.861410",
          "status": "completed"
        },
        "tags": [],
        "id": "polar-talent"
      },
      "id": "polar-talent"
    },
    {
      "cell_type": "markdown",
      "source": [
        "**Cleaning Data**"
      ],
      "metadata": {
        "id": "4jT7JFeb3iwj"
      },
      "id": "4jT7JFeb3iwj"
    },
    {
      "cell_type": "code",
      "execution_count": null,
      "source": [
        "from nltk.tokenize import RegexpTokenizer\n",
        "\n",
        "def clean_str(string, reg = RegexpTokenizer(r'[a-z]+')):\n",
        "    # Clean a string with RegexpTokenizer\n",
        "    string = string.lower()\n",
        "    tokens = reg.tokenize(string)\n",
        "    return \" \".join(tokens)\n",
        "\n",
        "print('Before cleaning:')\n",
        "df['text'][0]\n",
        "\n"
      ],
      "outputs": [
        {
          "output_type": "stream",
          "name": "stdout",
          "text": [
            "Before cleaning:\n"
          ]
        },
        {
          "output_type": "execute_result",
          "data": {
            "text/plain": [
              "\"Subject: enron methanol ; meter # : 988291\\r\\nthis is a follow up to the note i gave you on monday , 4 / 3 / 00 { preliminary\\r\\nflow data provided by daren } .\\r\\nplease override pop ' s daily volume { presently zero } to reflect daily\\r\\nactivity you can obtain from gas control .\\r\\nthis change is needed asap for economics purposes .\""
            ],
            "application/vnd.google.colaboratory.intrinsic+json": {
              "type": "string"
            }
          },
          "metadata": {},
          "execution_count": 49
        }
      ],
      "metadata": {
        "execution": {
          "iopub.execute_input": "2021-08-10T15:54:42.943773Z",
          "iopub.status.busy": "2021-08-10T15:54:42.943200Z",
          "iopub.status.idle": "2021-08-10T15:54:43.389528Z",
          "shell.execute_reply": "2021-08-10T15:54:43.388950Z"
        },
        "papermill": {
          "duration": 0.466176,
          "end_time": "2021-08-10T15:54:43.389663",
          "exception": false,
          "start_time": "2021-08-10T15:54:42.923487",
          "status": "completed"
        },
        "tags": [],
        "colab": {
          "base_uri": "https://localhost:8080/",
          "height": 70
        },
        "id": "southern-potter",
        "outputId": "2ba549fe-efa0-4caa-dd92-4ad73aad5bc6"
      },
      "id": "southern-potter"
    },
    {
      "cell_type": "code",
      "execution_count": null,
      "source": [
        "print('After cleaning:')\n",
        "clean_str(df['text'][0])"
      ],
      "outputs": [
        {
          "output_type": "stream",
          "name": "stdout",
          "text": [
            "After cleaning:\n"
          ]
        },
        {
          "output_type": "execute_result",
          "data": {
            "text/plain": [
              "'subject enron methanol meter this is a follow up to the note i gave you on monday preliminary flow data provided by daren please override pop s daily volume presently zero to reflect daily activity you can obtain from gas control this change is needed asap for economics purposes'"
            ],
            "application/vnd.google.colaboratory.intrinsic+json": {
              "type": "string"
            }
          },
          "metadata": {},
          "execution_count": 50
        }
      ],
      "metadata": {
        "execution": {
          "iopub.execute_input": "2021-08-10T15:54:43.438124Z",
          "iopub.status.busy": "2021-08-10T15:54:43.437476Z",
          "iopub.status.idle": "2021-08-10T15:54:43.442506Z",
          "shell.execute_reply": "2021-08-10T15:54:43.441873Z"
        },
        "papermill": {
          "duration": 0.030672,
          "end_time": "2021-08-10T15:54:43.442645",
          "exception": false,
          "start_time": "2021-08-10T15:54:43.411973",
          "status": "completed"
        },
        "tags": [],
        "colab": {
          "base_uri": "https://localhost:8080/",
          "height": 70
        },
        "id": "considered-murder",
        "outputId": "1ed74b0b-8d6a-46f3-9b32-409b5f4cb170"
      },
      "id": "considered-murder"
    },
    {
      "cell_type": "code",
      "execution_count": null,
      "source": [
        "# Create a new column with the cleaned messages\n",
        "df['text_clean'] = df['text'].apply(lambda string: clean_str(string))\n",
        "\n",
        "# Display the result\n",
        "df.head()"
      ],
      "outputs": [
        {
          "output_type": "execute_result",
          "data": {
            "text/plain": [
              "   Unnamed: 0 label                                               text  \\\n",
              "0         605   ham  Subject: enron methanol ; meter # : 988291\\r\\n...   \n",
              "1        2349   ham  Subject: hpl nom for january 9 , 2001\\r\\n( see...   \n",
              "2        3624   ham  Subject: neon retreat\\r\\nho ho ho , we ' re ar...   \n",
              "3        4685  spam  Subject: photoshop , windows , office . cheap ...   \n",
              "4        2030   ham  Subject: re : indian springs\\r\\nthis deal is t...   \n",
              "\n",
              "   label_num                                         text_clean  \n",
              "0          0  subject enron methanol meter this is a follow ...  \n",
              "1          0  subject hpl nom for january see attached file ...  \n",
              "2          0  subject neon retreat ho ho ho we re around to ...  \n",
              "3          1  subject photoshop windows office cheap main tr...  \n",
              "4          0  subject re indian springs this deal is to book...  "
            ],
            "text/html": [
              "\n",
              "  <div id=\"df-2101c883-16c1-4335-bf16-aebecbd651b4\">\n",
              "    <div class=\"colab-df-container\">\n",
              "      <div>\n",
              "<style scoped>\n",
              "    .dataframe tbody tr th:only-of-type {\n",
              "        vertical-align: middle;\n",
              "    }\n",
              "\n",
              "    .dataframe tbody tr th {\n",
              "        vertical-align: top;\n",
              "    }\n",
              "\n",
              "    .dataframe thead th {\n",
              "        text-align: right;\n",
              "    }\n",
              "</style>\n",
              "<table border=\"1\" class=\"dataframe\">\n",
              "  <thead>\n",
              "    <tr style=\"text-align: right;\">\n",
              "      <th></th>\n",
              "      <th>Unnamed: 0</th>\n",
              "      <th>label</th>\n",
              "      <th>text</th>\n",
              "      <th>label_num</th>\n",
              "      <th>text_clean</th>\n",
              "    </tr>\n",
              "  </thead>\n",
              "  <tbody>\n",
              "    <tr>\n",
              "      <th>0</th>\n",
              "      <td>605</td>\n",
              "      <td>ham</td>\n",
              "      <td>Subject: enron methanol ; meter # : 988291\\r\\n...</td>\n",
              "      <td>0</td>\n",
              "      <td>subject enron methanol meter this is a follow ...</td>\n",
              "    </tr>\n",
              "    <tr>\n",
              "      <th>1</th>\n",
              "      <td>2349</td>\n",
              "      <td>ham</td>\n",
              "      <td>Subject: hpl nom for january 9 , 2001\\r\\n( see...</td>\n",
              "      <td>0</td>\n",
              "      <td>subject hpl nom for january see attached file ...</td>\n",
              "    </tr>\n",
              "    <tr>\n",
              "      <th>2</th>\n",
              "      <td>3624</td>\n",
              "      <td>ham</td>\n",
              "      <td>Subject: neon retreat\\r\\nho ho ho , we ' re ar...</td>\n",
              "      <td>0</td>\n",
              "      <td>subject neon retreat ho ho ho we re around to ...</td>\n",
              "    </tr>\n",
              "    <tr>\n",
              "      <th>3</th>\n",
              "      <td>4685</td>\n",
              "      <td>spam</td>\n",
              "      <td>Subject: photoshop , windows , office . cheap ...</td>\n",
              "      <td>1</td>\n",
              "      <td>subject photoshop windows office cheap main tr...</td>\n",
              "    </tr>\n",
              "    <tr>\n",
              "      <th>4</th>\n",
              "      <td>2030</td>\n",
              "      <td>ham</td>\n",
              "      <td>Subject: re : indian springs\\r\\nthis deal is t...</td>\n",
              "      <td>0</td>\n",
              "      <td>subject re indian springs this deal is to book...</td>\n",
              "    </tr>\n",
              "  </tbody>\n",
              "</table>\n",
              "</div>\n",
              "      <button class=\"colab-df-convert\" onclick=\"convertToInteractive('df-2101c883-16c1-4335-bf16-aebecbd651b4')\"\n",
              "              title=\"Convert this dataframe to an interactive table.\"\n",
              "              style=\"display:none;\">\n",
              "        \n",
              "  <svg xmlns=\"http://www.w3.org/2000/svg\" height=\"24px\"viewBox=\"0 0 24 24\"\n",
              "       width=\"24px\">\n",
              "    <path d=\"M0 0h24v24H0V0z\" fill=\"none\"/>\n",
              "    <path d=\"M18.56 5.44l.94 2.06.94-2.06 2.06-.94-2.06-.94-.94-2.06-.94 2.06-2.06.94zm-11 1L8.5 8.5l.94-2.06 2.06-.94-2.06-.94L8.5 2.5l-.94 2.06-2.06.94zm10 10l.94 2.06.94-2.06 2.06-.94-2.06-.94-.94-2.06-.94 2.06-2.06.94z\"/><path d=\"M17.41 7.96l-1.37-1.37c-.4-.4-.92-.59-1.43-.59-.52 0-1.04.2-1.43.59L10.3 9.45l-7.72 7.72c-.78.78-.78 2.05 0 2.83L4 21.41c.39.39.9.59 1.41.59.51 0 1.02-.2 1.41-.59l7.78-7.78 2.81-2.81c.8-.78.8-2.07 0-2.86zM5.41 20L4 18.59l7.72-7.72 1.47 1.35L5.41 20z\"/>\n",
              "  </svg>\n",
              "      </button>\n",
              "      \n",
              "  <style>\n",
              "    .colab-df-container {\n",
              "      display:flex;\n",
              "      flex-wrap:wrap;\n",
              "      gap: 12px;\n",
              "    }\n",
              "\n",
              "    .colab-df-convert {\n",
              "      background-color: #E8F0FE;\n",
              "      border: none;\n",
              "      border-radius: 50%;\n",
              "      cursor: pointer;\n",
              "      display: none;\n",
              "      fill: #1967D2;\n",
              "      height: 32px;\n",
              "      padding: 0 0 0 0;\n",
              "      width: 32px;\n",
              "    }\n",
              "\n",
              "    .colab-df-convert:hover {\n",
              "      background-color: #E2EBFA;\n",
              "      box-shadow: 0px 1px 2px rgba(60, 64, 67, 0.3), 0px 1px 3px 1px rgba(60, 64, 67, 0.15);\n",
              "      fill: #174EA6;\n",
              "    }\n",
              "\n",
              "    [theme=dark] .colab-df-convert {\n",
              "      background-color: #3B4455;\n",
              "      fill: #D2E3FC;\n",
              "    }\n",
              "\n",
              "    [theme=dark] .colab-df-convert:hover {\n",
              "      background-color: #434B5C;\n",
              "      box-shadow: 0px 1px 3px 1px rgba(0, 0, 0, 0.15);\n",
              "      filter: drop-shadow(0px 1px 2px rgba(0, 0, 0, 0.3));\n",
              "      fill: #FFFFFF;\n",
              "    }\n",
              "  </style>\n",
              "\n",
              "      <script>\n",
              "        const buttonEl =\n",
              "          document.querySelector('#df-2101c883-16c1-4335-bf16-aebecbd651b4 button.colab-df-convert');\n",
              "        buttonEl.style.display =\n",
              "          google.colab.kernel.accessAllowed ? 'block' : 'none';\n",
              "\n",
              "        async function convertToInteractive(key) {\n",
              "          const element = document.querySelector('#df-2101c883-16c1-4335-bf16-aebecbd651b4');\n",
              "          const dataTable =\n",
              "            await google.colab.kernel.invokeFunction('convertToInteractive',\n",
              "                                                     [key], {});\n",
              "          if (!dataTable) return;\n",
              "\n",
              "          const docLinkHtml = 'Like what you see? Visit the ' +\n",
              "            '<a target=\"_blank\" href=https://colab.research.google.com/notebooks/data_table.ipynb>data table notebook</a>'\n",
              "            + ' to learn more about interactive tables.';\n",
              "          element.innerHTML = '';\n",
              "          dataTable['output_type'] = 'display_data';\n",
              "          await google.colab.output.renderOutput(dataTable, element);\n",
              "          const docLink = document.createElement('div');\n",
              "          docLink.innerHTML = docLinkHtml;\n",
              "          element.appendChild(docLink);\n",
              "        }\n",
              "      </script>\n",
              "    </div>\n",
              "  </div>\n",
              "  "
            ]
          },
          "metadata": {},
          "execution_count": 51
        }
      ],
      "metadata": {
        "execution": {
          "iopub.execute_input": "2021-08-10T15:54:43.508686Z",
          "iopub.status.busy": "2021-08-10T15:54:43.503567Z",
          "iopub.status.idle": "2021-08-10T15:54:43.722866Z",
          "shell.execute_reply": "2021-08-10T15:54:43.722428Z"
        },
        "papermill": {
          "duration": 0.262096,
          "end_time": "2021-08-10T15:54:43.722998",
          "exception": false,
          "start_time": "2021-08-10T15:54:43.460902",
          "status": "completed"
        },
        "tags": [],
        "colab": {
          "base_uri": "https://localhost:8080/",
          "height": 206
        },
        "id": "destroyed-serve",
        "outputId": "ea2d6044-22f3-4a25-ba90-e282583290ba"
      },
      "id": "destroyed-serve"
    },
    {
      "cell_type": "code",
      "execution_count": null,
      "source": [
        "# Convert a collection of text documents to a matrix of token counts\n",
        "from sklearn.feature_extraction.text import CountVectorizer\n",
        "cv = CountVectorizer()\n",
        "X = cv.fit_transform(df.text_clean)\n",
        "\n",
        "# Get the categories\n",
        "y = df.label"
      ],
      "outputs": [],
      "metadata": {
        "execution": {
          "iopub.execute_input": "2021-08-10T15:54:43.801407Z",
          "iopub.status.busy": "2021-08-10T15:54:43.796432Z",
          "iopub.status.idle": "2021-08-10T15:54:44.556254Z",
          "shell.execute_reply": "2021-08-10T15:54:44.555561Z"
        },
        "papermill": {
          "duration": 0.816623,
          "end_time": "2021-08-10T15:54:44.556402",
          "exception": false,
          "start_time": "2021-08-10T15:54:43.739779",
          "status": "completed"
        },
        "tags": [],
        "id": "rough-landscape"
      },
      "id": "rough-landscape"
    },
    {
      "cell_type": "code",
      "execution_count": null,
      "source": [
        "# Split arrays or matrices into random train and test subsets\n",
        "X_train, X_test, y_train, y_test = train_test_split(X, y, test_size=0.2, random_state=0)"
      ],
      "outputs": [],
      "metadata": {
        "execution": {
          "iopub.execute_input": "2021-08-10T15:54:44.595989Z",
          "iopub.status.busy": "2021-08-10T15:54:44.595444Z",
          "iopub.status.idle": "2021-08-10T15:54:44.602281Z",
          "shell.execute_reply": "2021-08-10T15:54:44.602693Z"
        },
        "papermill": {
          "duration": 0.028866,
          "end_time": "2021-08-10T15:54:44.602856",
          "exception": false,
          "start_time": "2021-08-10T15:54:44.573990",
          "status": "completed"
        },
        "tags": [],
        "id": "nasty-framing"
      },
      "id": "nasty-framing"
    },
    {
      "cell_type": "markdown",
      "source": [
        "**Model comparison**"
      ],
      "metadata": {
        "papermill": {
          "duration": 0.016905,
          "end_time": "2021-08-10T15:54:44.636865",
          "exception": false,
          "start_time": "2021-08-10T15:54:44.619960",
          "status": "completed"
        },
        "tags": [],
        "id": "wanted-glass"
      },
      "id": "wanted-glass"
    },
    {
      "cell_type": "code",
      "execution_count": null,
      "source": [
        "models = {\n",
        "    \"Random Forest\": {\"model\":RandomForestClassifier(), \"perf\":0},\n",
        "    \"Gradient Boosting\": {\"model\":GradientBoostingClassifier(), \"perf\":0},\n",
        "    \"XGBoost\": {\"model\":XGBClassifier(eval_metric='mlogloss'), \"perf\":0},\n",
        "    \"MultinomialNB\": {\"model\":MultinomialNB(), \"perf\":0},\n",
        "    \"Logistic Regr.\": {\"model\":LogisticRegression(), \"perf\":0},\n",
        "    \"KNN\": {\"model\":KNeighborsClassifier(), \"perf\":0},\n",
        "    \"Decision Tree\": {\"model\":DecisionTreeClassifier(), \"perf\":0},\n",
        "    \"SVM (Linear)\": {\"model\":LinearSVC(), \"perf\":0},\n",
        "    \"SVM (RBF)\": {\"model\":SVC(), \"perf\":0}\n",
        "}\n",
        "\n",
        "for name, model in models.items():\n",
        "    start = perf_counter()\n",
        "    model['model'].fit(X_train, y_train)\n",
        "    duration = perf_counter() - start\n",
        "    duration = round(duration,2)\n",
        "    model[\"perf\"] = duration"
      ],
      "outputs": [],
      "metadata": {
        "execution": {
          "iopub.execute_input": "2021-08-10T15:54:44.674550Z",
          "iopub.status.busy": "2021-08-10T15:54:44.673661Z",
          "iopub.status.idle": "2021-08-10T15:55:19.616570Z",
          "shell.execute_reply": "2021-08-10T15:55:19.617029Z"
        },
        "papermill": {
          "duration": 34.963337,
          "end_time": "2021-08-10T15:55:19.617196",
          "exception": false,
          "start_time": "2021-08-10T15:54:44.653859",
          "status": "completed"
        },
        "tags": [],
        "id": "dress-ghana"
      },
      "id": "dress-ghana"
    },
    {
      "cell_type": "code",
      "execution_count": null,
      "source": [
        "models_acc = []\n",
        "for name, model in models.items():\n",
        "    models_acc.append([name, model[\"model\"].score(X_test, y_test),model[\"perf\"]])"
      ],
      "outputs": [],
      "metadata": {
        "execution": {
          "iopub.execute_input": "2021-08-10T15:55:19.658610Z",
          "iopub.status.busy": "2021-08-10T15:55:19.657750Z",
          "iopub.status.idle": "2021-08-10T15:55:21.471846Z",
          "shell.execute_reply": "2021-08-10T15:55:21.472310Z"
        },
        "papermill": {
          "duration": 1.837152,
          "end_time": "2021-08-10T15:55:21.472488",
          "exception": false,
          "start_time": "2021-08-10T15:55:19.635336",
          "status": "completed"
        },
        "tags": [],
        "id": "increasing-shower"
      },
      "id": "increasing-shower"
    },
    {
      "cell_type": "code",
      "execution_count": null,
      "source": [
        "df_acc = pd.DataFrame(models_acc)\n",
        "df_acc.columns = ['Model', 'Accuracy w/o scaling', 'Training time (sec)']\n",
        "df_acc.sort_values(by = 'Accuracy w/o scaling', ascending = False, inplace=True)\n",
        "df_acc.reset_index(drop = True, inplace=True)\n",
        "df_acc"
      ],
      "outputs": [
        {
          "output_type": "execute_result",
          "data": {
            "text/plain": [
              "               Model  Accuracy w/o scaling  Training time (sec)\n",
              "0     Logistic Regr.              0.973913                 1.11\n",
              "1      MultinomialNB              0.971981                 0.02\n",
              "2      Random Forest              0.971014                 4.73\n",
              "3            XGBoost              0.967150                 6.01\n",
              "4       SVM (Linear)              0.964251                 0.21\n",
              "5  Gradient Boosting              0.960386                19.50\n",
              "6      Decision Tree              0.960386                 0.76\n",
              "7          SVM (RBF)              0.957488                 4.96\n",
              "8                KNN              0.871498                 0.01"
            ],
            "text/html": [
              "\n",
              "  <div id=\"df-b28cc75f-f412-4c4f-a133-c6d98693b880\">\n",
              "    <div class=\"colab-df-container\">\n",
              "      <div>\n",
              "<style scoped>\n",
              "    .dataframe tbody tr th:only-of-type {\n",
              "        vertical-align: middle;\n",
              "    }\n",
              "\n",
              "    .dataframe tbody tr th {\n",
              "        vertical-align: top;\n",
              "    }\n",
              "\n",
              "    .dataframe thead th {\n",
              "        text-align: right;\n",
              "    }\n",
              "</style>\n",
              "<table border=\"1\" class=\"dataframe\">\n",
              "  <thead>\n",
              "    <tr style=\"text-align: right;\">\n",
              "      <th></th>\n",
              "      <th>Model</th>\n",
              "      <th>Accuracy w/o scaling</th>\n",
              "      <th>Training time (sec)</th>\n",
              "    </tr>\n",
              "  </thead>\n",
              "  <tbody>\n",
              "    <tr>\n",
              "      <th>0</th>\n",
              "      <td>Logistic Regr.</td>\n",
              "      <td>0.973913</td>\n",
              "      <td>1.11</td>\n",
              "    </tr>\n",
              "    <tr>\n",
              "      <th>1</th>\n",
              "      <td>MultinomialNB</td>\n",
              "      <td>0.971981</td>\n",
              "      <td>0.02</td>\n",
              "    </tr>\n",
              "    <tr>\n",
              "      <th>2</th>\n",
              "      <td>Random Forest</td>\n",
              "      <td>0.971014</td>\n",
              "      <td>4.73</td>\n",
              "    </tr>\n",
              "    <tr>\n",
              "      <th>3</th>\n",
              "      <td>XGBoost</td>\n",
              "      <td>0.967150</td>\n",
              "      <td>6.01</td>\n",
              "    </tr>\n",
              "    <tr>\n",
              "      <th>4</th>\n",
              "      <td>SVM (Linear)</td>\n",
              "      <td>0.964251</td>\n",
              "      <td>0.21</td>\n",
              "    </tr>\n",
              "    <tr>\n",
              "      <th>5</th>\n",
              "      <td>Gradient Boosting</td>\n",
              "      <td>0.960386</td>\n",
              "      <td>19.50</td>\n",
              "    </tr>\n",
              "    <tr>\n",
              "      <th>6</th>\n",
              "      <td>Decision Tree</td>\n",
              "      <td>0.960386</td>\n",
              "      <td>0.76</td>\n",
              "    </tr>\n",
              "    <tr>\n",
              "      <th>7</th>\n",
              "      <td>SVM (RBF)</td>\n",
              "      <td>0.957488</td>\n",
              "      <td>4.96</td>\n",
              "    </tr>\n",
              "    <tr>\n",
              "      <th>8</th>\n",
              "      <td>KNN</td>\n",
              "      <td>0.871498</td>\n",
              "      <td>0.01</td>\n",
              "    </tr>\n",
              "  </tbody>\n",
              "</table>\n",
              "</div>\n",
              "      <button class=\"colab-df-convert\" onclick=\"convertToInteractive('df-b28cc75f-f412-4c4f-a133-c6d98693b880')\"\n",
              "              title=\"Convert this dataframe to an interactive table.\"\n",
              "              style=\"display:none;\">\n",
              "        \n",
              "  <svg xmlns=\"http://www.w3.org/2000/svg\" height=\"24px\"viewBox=\"0 0 24 24\"\n",
              "       width=\"24px\">\n",
              "    <path d=\"M0 0h24v24H0V0z\" fill=\"none\"/>\n",
              "    <path d=\"M18.56 5.44l.94 2.06.94-2.06 2.06-.94-2.06-.94-.94-2.06-.94 2.06-2.06.94zm-11 1L8.5 8.5l.94-2.06 2.06-.94-2.06-.94L8.5 2.5l-.94 2.06-2.06.94zm10 10l.94 2.06.94-2.06 2.06-.94-2.06-.94-.94-2.06-.94 2.06-2.06.94z\"/><path d=\"M17.41 7.96l-1.37-1.37c-.4-.4-.92-.59-1.43-.59-.52 0-1.04.2-1.43.59L10.3 9.45l-7.72 7.72c-.78.78-.78 2.05 0 2.83L4 21.41c.39.39.9.59 1.41.59.51 0 1.02-.2 1.41-.59l7.78-7.78 2.81-2.81c.8-.78.8-2.07 0-2.86zM5.41 20L4 18.59l7.72-7.72 1.47 1.35L5.41 20z\"/>\n",
              "  </svg>\n",
              "      </button>\n",
              "      \n",
              "  <style>\n",
              "    .colab-df-container {\n",
              "      display:flex;\n",
              "      flex-wrap:wrap;\n",
              "      gap: 12px;\n",
              "    }\n",
              "\n",
              "    .colab-df-convert {\n",
              "      background-color: #E8F0FE;\n",
              "      border: none;\n",
              "      border-radius: 50%;\n",
              "      cursor: pointer;\n",
              "      display: none;\n",
              "      fill: #1967D2;\n",
              "      height: 32px;\n",
              "      padding: 0 0 0 0;\n",
              "      width: 32px;\n",
              "    }\n",
              "\n",
              "    .colab-df-convert:hover {\n",
              "      background-color: #E2EBFA;\n",
              "      box-shadow: 0px 1px 2px rgba(60, 64, 67, 0.3), 0px 1px 3px 1px rgba(60, 64, 67, 0.15);\n",
              "      fill: #174EA6;\n",
              "    }\n",
              "\n",
              "    [theme=dark] .colab-df-convert {\n",
              "      background-color: #3B4455;\n",
              "      fill: #D2E3FC;\n",
              "    }\n",
              "\n",
              "    [theme=dark] .colab-df-convert:hover {\n",
              "      background-color: #434B5C;\n",
              "      box-shadow: 0px 1px 3px 1px rgba(0, 0, 0, 0.15);\n",
              "      filter: drop-shadow(0px 1px 2px rgba(0, 0, 0, 0.3));\n",
              "      fill: #FFFFFF;\n",
              "    }\n",
              "  </style>\n",
              "\n",
              "      <script>\n",
              "        const buttonEl =\n",
              "          document.querySelector('#df-b28cc75f-f412-4c4f-a133-c6d98693b880 button.colab-df-convert');\n",
              "        buttonEl.style.display =\n",
              "          google.colab.kernel.accessAllowed ? 'block' : 'none';\n",
              "\n",
              "        async function convertToInteractive(key) {\n",
              "          const element = document.querySelector('#df-b28cc75f-f412-4c4f-a133-c6d98693b880');\n",
              "          const dataTable =\n",
              "            await google.colab.kernel.invokeFunction('convertToInteractive',\n",
              "                                                     [key], {});\n",
              "          if (!dataTable) return;\n",
              "\n",
              "          const docLinkHtml = 'Like what you see? Visit the ' +\n",
              "            '<a target=\"_blank\" href=https://colab.research.google.com/notebooks/data_table.ipynb>data table notebook</a>'\n",
              "            + ' to learn more about interactive tables.';\n",
              "          element.innerHTML = '';\n",
              "          dataTable['output_type'] = 'display_data';\n",
              "          await google.colab.output.renderOutput(dataTable, element);\n",
              "          const docLink = document.createElement('div');\n",
              "          docLink.innerHTML = docLinkHtml;\n",
              "          element.appendChild(docLink);\n",
              "        }\n",
              "      </script>\n",
              "    </div>\n",
              "  </div>\n",
              "  "
            ]
          },
          "metadata": {},
          "execution_count": 56
        }
      ],
      "metadata": {
        "execution": {
          "iopub.execute_input": "2021-08-10T15:55:21.522729Z",
          "iopub.status.busy": "2021-08-10T15:55:21.522138Z",
          "iopub.status.idle": "2021-08-10T15:55:21.524906Z",
          "shell.execute_reply": "2021-08-10T15:55:21.525347Z"
        },
        "papermill": {
          "duration": 0.033941,
          "end_time": "2021-08-10T15:55:21.525504",
          "exception": false,
          "start_time": "2021-08-10T15:55:21.491563",
          "status": "completed"
        },
        "tags": [],
        "colab": {
          "base_uri": "https://localhost:8080/",
          "height": 331
        },
        "id": "progressive-drive",
        "outputId": "8d303053-a8a5-4e8d-c29c-f9db102e9e81"
      },
      "id": "progressive-drive"
    },
    {
      "cell_type": "code",
      "execution_count": null,
      "source": [
        "plt.figure(figsize = (15,5))\n",
        "sns.barplot(x = 'Model', y = 'Accuracy w/o scaling', data = df_acc)\n",
        "plt.title('Accuracy on the test set\\n(the Y-Axis is between 0.8 and 1.0)', fontsize = 15)\n",
        "plt.ylim(0.8,1)\n",
        "plt.show()"
      ],
      "outputs": [
        {
          "output_type": "display_data",
          "data": {
            "text/plain": [
              "<Figure size 1080x360 with 1 Axes>"
            ],
            "image/png": "[encoded data removed]"
          },
          "metadata": {
            "needs_background": "light"
          }
        }
      ],
      "metadata": {
        "execution": {
          "iopub.execute_input": "2021-08-10T15:55:21.572679Z",
          "iopub.status.busy": "2021-08-10T15:55:21.571821Z",
          "iopub.status.idle": "2021-08-10T15:55:21.762927Z",
          "shell.execute_reply": "2021-08-10T15:55:21.763335Z"
        },
        "papermill": {
          "duration": 0.21894,
          "end_time": "2021-08-10T15:55:21.763504",
          "exception": false,
          "start_time": "2021-08-10T15:55:21.544564",
          "status": "completed"
        },
        "tags": [],
        "colab": {
          "base_uri": "https://localhost:8080/",
          "height": 369
        },
        "id": "revolutionary-sustainability",
        "outputId": "2af303fd-8980-4887-b584-82c61e666548"
      },
      "id": "revolutionary-sustainability"
    },
    {
      "cell_type": "code",
      "execution_count": null,
      "source": [
        "plt.figure(figsize = (15,5))\n",
        "sns.barplot(x = 'Model', y = 'Training time (sec)', data = df_acc)\n",
        "plt.title('Training time for each model in sec', fontsize = 15)\n",
        "plt.ylim(0,20)\n",
        "plt.show()"
      ],
      "outputs": [
        {
          "output_type": "display_data",
          "data": {
            "text/plain": [
              "<Figure size 1080x360 with 1 Axes>"
            ],
            "image/png": "[encoded data removed]"
          },
          "metadata": {
            "needs_background": "light"
          }
        }
      ],
      "metadata": {
        "execution": {
          "iopub.execute_input": "2021-08-10T15:55:21.807526Z",
          "iopub.status.busy": "2021-08-10T15:55:21.806662Z",
          "iopub.status.idle": "2021-08-10T15:55:21.991118Z",
          "shell.execute_reply": "2021-08-10T15:55:21.990642Z"
        },
        "papermill": {
          "duration": 0.207625,
          "end_time": "2021-08-10T15:55:21.991257",
          "exception": false,
          "start_time": "2021-08-10T15:55:21.783632",
          "status": "completed"
        },
        "tags": [],
        "colab": {
          "base_uri": "https://localhost:8080/",
          "height": 352
        },
        "id": "neutral-affiliation",
        "outputId": "e0d56054-e1d2-4965-ec44-c0946ba85211"
      },
      "id": "neutral-affiliation"
    },
    {
      "cell_type": "markdown",
      "source": [
        "***XGBoosting gives the best result on the test set. Nevertheless, MultinomialNB is nearly as good, but is very fast (0.2 sec vs 5.1 sec). In the following part, we'll choose the MultinomialNB and try various hyperparameters to optimize it.***"
      ],
      "metadata": {
        "papermill": {
          "duration": 0.021605,
          "end_time": "2021-08-10T15:55:22.033785",
          "exception": false,
          "start_time": "2021-08-10T15:55:22.012180",
          "status": "completed"
        },
        "tags": [],
        "id": "fresh-fault"
      },
      "id": "fresh-fault"
    },
    {
      "cell_type": "markdown",
      "source": [
        "Hyperparameter selection for MultinomialNB"
      ],
      "metadata": {
        "papermill": {
          "duration": 0.020848,
          "end_time": "2021-08-10T15:55:22.076887",
          "exception": false,
          "start_time": "2021-08-10T15:55:22.056039",
          "status": "completed"
        },
        "tags": [],
        "id": "elementary-harrison"
      },
      "id": "elementary-harrison"
    },
    {
      "cell_type": "code",
      "execution_count": null,
      "source": [
        "# Find the best hyperparameter with GridSearchCV\n",
        "# Exhaustive search over specified parameter values for an estimator.\n",
        "from sklearn.naive_bayes import MultinomialNB\n",
        "from sklearn.model_selection import GridSearchCV\n",
        "parameters = {\"alpha\": [0.2,1,2,5,10], \"fit_prior\": [True, False]}\n",
        "\n",
        "grid = GridSearchCV(MultinomialNB(), param_grid=parameters)\n",
        "grid.fit(X_train,y_train)\n",
        "\n",
        "# Create a DataFrame with the best Hyperparameters\n",
        "pd.DataFrame(grid.cv_results_)[['params','mean_test_score']]\\\n",
        "                               .sort_values(by=\"mean_test_score\", ascending=False)"
      ],
      "outputs": [
        {
          "output_type": "execute_result",
          "data": {
            "text/plain": [
              "                               params  mean_test_score\n",
              "0   {'alpha': 0.2, 'fit_prior': True}         0.981384\n",
              "1  {'alpha': 0.2, 'fit_prior': False}         0.981142\n",
              "3    {'alpha': 1, 'fit_prior': False}         0.979690\n",
              "2     {'alpha': 1, 'fit_prior': True}         0.977999\n",
              "5    {'alpha': 2, 'fit_prior': False}         0.971713\n",
              "4     {'alpha': 2, 'fit_prior': True}         0.967602\n",
              "7    {'alpha': 5, 'fit_prior': False}         0.938591\n",
              "6     {'alpha': 5, 'fit_prior': True}         0.930854\n",
              "9   {'alpha': 10, 'fit_prior': False}         0.886127\n",
              "8    {'alpha': 10, 'fit_prior': True}         0.875971"
            ],
            "text/html": [
              "\n",
              "  <div id=\"df-d588a29a-69a9-4655-8b3b-276bc00fe710\">\n",
              "    <div class=\"colab-df-container\">\n",
              "      <div>\n",
              "<style scoped>\n",
              "    .dataframe tbody tr th:only-of-type {\n",
              "        vertical-align: middle;\n",
              "    }\n",
              "\n",
              "    .dataframe tbody tr th {\n",
              "        vertical-align: top;\n",
              "    }\n",
              "\n",
              "    .dataframe thead th {\n",
              "        text-align: right;\n",
              "    }\n",
              "</style>\n",
              "<table border=\"1\" class=\"dataframe\">\n",
              "  <thead>\n",
              "    <tr style=\"text-align: right;\">\n",
              "      <th></th>\n",
              "      <th>params</th>\n",
              "      <th>mean_test_score</th>\n",
              "    </tr>\n",
              "  </thead>\n",
              "  <tbody>\n",
              "    <tr>\n",
              "      <th>0</th>\n",
              "      <td>{'alpha': 0.2, 'fit_prior': True}</td>\n",
              "      <td>0.981384</td>\n",
              "    </tr>\n",
              "    <tr>\n",
              "      <th>1</th>\n",
              "      <td>{'alpha': 0.2, 'fit_prior': False}</td>\n",
              "      <td>0.981142</td>\n",
              "    </tr>\n",
              "    <tr>\n",
              "      <th>3</th>\n",
              "      <td>{'alpha': 1, 'fit_prior': False}</td>\n",
              "      <td>0.979690</td>\n",
              "    </tr>\n",
              "    <tr>\n",
              "      <th>2</th>\n",
              "      <td>{'alpha': 1, 'fit_prior': True}</td>\n",
              "      <td>0.977999</td>\n",
              "    </tr>\n",
              "    <tr>\n",
              "      <th>5</th>\n",
              "      <td>{'alpha': 2, 'fit_prior': False}</td>\n",
              "      <td>0.971713</td>\n",
              "    </tr>\n",
              "    <tr>\n",
              "      <th>4</th>\n",
              "      <td>{'alpha': 2, 'fit_prior': True}</td>\n",
              "      <td>0.967602</td>\n",
              "    </tr>\n",
              "    <tr>\n",
              "      <th>7</th>\n",
              "      <td>{'alpha': 5, 'fit_prior': False}</td>\n",
              "      <td>0.938591</td>\n",
              "    </tr>\n",
              "    <tr>\n",
              "      <th>6</th>\n",
              "      <td>{'alpha': 5, 'fit_prior': True}</td>\n",
              "      <td>0.930854</td>\n",
              "    </tr>\n",
              "    <tr>\n",
              "      <th>9</th>\n",
              "      <td>{'alpha': 10, 'fit_prior': False}</td>\n",
              "      <td>0.886127</td>\n",
              "    </tr>\n",
              "    <tr>\n",
              "      <th>8</th>\n",
              "      <td>{'alpha': 10, 'fit_prior': True}</td>\n",
              "      <td>0.875971</td>\n",
              "    </tr>\n",
              "  </tbody>\n",
              "</table>\n",
              "</div>\n",
              "      <button class=\"colab-df-convert\" onclick=\"convertToInteractive('df-d588a29a-69a9-4655-8b3b-276bc00fe710')\"\n",
              "              title=\"Convert this dataframe to an interactive table.\"\n",
              "              style=\"display:none;\">\n",
              "        \n",
              "  <svg xmlns=\"http://www.w3.org/2000/svg\" height=\"24px\"viewBox=\"0 0 24 24\"\n",
              "       width=\"24px\">\n",
              "    <path d=\"M0 0h24v24H0V0z\" fill=\"none\"/>\n",
              "    <path d=\"M18.56 5.44l.94 2.06.94-2.06 2.06-.94-2.06-.94-.94-2.06-.94 2.06-2.06.94zm-11 1L8.5 8.5l.94-2.06 2.06-.94-2.06-.94L8.5 2.5l-.94 2.06-2.06.94zm10 10l.94 2.06.94-2.06 2.06-.94-2.06-.94-.94-2.06-.94 2.06-2.06.94z\"/><path d=\"M17.41 7.96l-1.37-1.37c-.4-.4-.92-.59-1.43-.59-.52 0-1.04.2-1.43.59L10.3 9.45l-7.72 7.72c-.78.78-.78 2.05 0 2.83L4 21.41c.39.39.9.59 1.41.59.51 0 1.02-.2 1.41-.59l7.78-7.78 2.81-2.81c.8-.78.8-2.07 0-2.86zM5.41 20L4 18.59l7.72-7.72 1.47 1.35L5.41 20z\"/>\n",
              "  </svg>\n",
              "      </button>\n",
              "      \n",
              "  <style>\n",
              "    .colab-df-container {\n",
              "      display:flex;\n",
              "      flex-wrap:wrap;\n",
              "      gap: 12px;\n",
              "    }\n",
              "\n",
              "    .colab-df-convert {\n",
              "      background-color: #E8F0FE;\n",
              "      border: none;\n",
              "      border-radius: 50%;\n",
              "      cursor: pointer;\n",
              "      display: none;\n",
              "      fill: #1967D2;\n",
              "      height: 32px;\n",
              "      padding: 0 0 0 0;\n",
              "      width: 32px;\n",
              "    }\n",
              "\n",
              "    .colab-df-convert:hover {\n",
              "      background-color: #E2EBFA;\n",
              "      box-shadow: 0px 1px 2px rgba(60, 64, 67, 0.3), 0px 1px 3px 1px rgba(60, 64, 67, 0.15);\n",
              "      fill: #174EA6;\n",
              "    }\n",
              "\n",
              "    [theme=dark] .colab-df-convert {\n",
              "      background-color: #3B4455;\n",
              "      fill: #D2E3FC;\n",
              "    }\n",
              "\n",
              "    [theme=dark] .colab-df-convert:hover {\n",
              "      background-color: #434B5C;\n",
              "      box-shadow: 0px 1px 3px 1px rgba(0, 0, 0, 0.15);\n",
              "      filter: drop-shadow(0px 1px 2px rgba(0, 0, 0, 0.3));\n",
              "      fill: #FFFFFF;\n",
              "    }\n",
              "  </style>\n",
              "\n",
              "      <script>\n",
              "        const buttonEl =\n",
              "          document.querySelector('#df-d588a29a-69a9-4655-8b3b-276bc00fe710 button.colab-df-convert');\n",
              "        buttonEl.style.display =\n",
              "          google.colab.kernel.accessAllowed ? 'block' : 'none';\n",
              "\n",
              "        async function convertToInteractive(key) {\n",
              "          const element = document.querySelector('#df-d588a29a-69a9-4655-8b3b-276bc00fe710');\n",
              "          const dataTable =\n",
              "            await google.colab.kernel.invokeFunction('convertToInteractive',\n",
              "                                                     [key], {});\n",
              "          if (!dataTable) return;\n",
              "\n",
              "          const docLinkHtml = 'Like what you see? Visit the ' +\n",
              "            '<a target=\"_blank\" href=https://colab.research.google.com/notebooks/data_table.ipynb>data table notebook</a>'\n",
              "            + ' to learn more about interactive tables.';\n",
              "          element.innerHTML = '';\n",
              "          dataTable['output_type'] = 'display_data';\n",
              "          await google.colab.output.renderOutput(dataTable, element);\n",
              "          const docLink = document.createElement('div');\n",
              "          docLink.innerHTML = docLinkHtml;\n",
              "          element.appendChild(docLink);\n",
              "        }\n",
              "      </script>\n",
              "    </div>\n",
              "  </div>\n",
              "  "
            ]
          },
          "metadata": {},
          "execution_count": 59
        }
      ],
      "metadata": {
        "execution": {
          "iopub.execute_input": "2021-08-10T15:55:22.128477Z",
          "iopub.status.busy": "2021-08-10T15:55:22.127578Z",
          "iopub.status.idle": "2021-08-10T15:55:23.018635Z",
          "shell.execute_reply": "2021-08-10T15:55:23.019145Z"
        },
        "papermill": {
          "duration": 0.921331,
          "end_time": "2021-08-10T15:55:23.019313",
          "exception": false,
          "start_time": "2021-08-10T15:55:22.097982",
          "status": "completed"
        },
        "tags": [],
        "colab": {
          "base_uri": "https://localhost:8080/",
          "height": 363
        },
        "id": "spare-senator",
        "outputId": "efdb3252-0eca-454a-a345-30a933eb1336"
      },
      "id": "spare-senator"
    },
    {
      "cell_type": "code",
      "execution_count": null,
      "source": [
        "# Display the best hyperparameters\n",
        "grid.best_params_"
      ],
      "outputs": [
        {
          "output_type": "execute_result",
          "data": {
            "text/plain": [
              "{'alpha': 0.2, 'fit_prior': True}"
            ]
          },
          "metadata": {},
          "execution_count": 60
        }
      ],
      "metadata": {
        "execution": {
          "iopub.execute_input": "2021-08-10T15:55:23.067129Z",
          "iopub.status.busy": "2021-08-10T15:55:23.066203Z",
          "iopub.status.idle": "2021-08-10T15:55:23.072600Z",
          "shell.execute_reply": "2021-08-10T15:55:23.072066Z"
        },
        "papermill": {
          "duration": 0.03205,
          "end_time": "2021-08-10T15:55:23.072734",
          "exception": false,
          "start_time": "2021-08-10T15:55:23.040684",
          "status": "completed"
        },
        "tags": [],
        "colab": {
          "base_uri": "https://localhost:8080/"
        },
        "id": "controlled-trance",
        "outputId": "51e925ed-f8bc-411d-b781-ea61ff3e853c"
      },
      "id": "controlled-trance"
    },
    {
      "cell_type": "markdown",
      "source": [
        "**The MultinomialNB Model**"
      ],
      "metadata": {
        "papermill": {
          "duration": 0.021505,
          "end_time": "2021-08-10T15:55:23.116267",
          "exception": false,
          "start_time": "2021-08-10T15:55:23.094762",
          "status": "completed"
        },
        "tags": [],
        "id": "unnecessary-accessory"
      },
      "id": "unnecessary-accessory"
    },
    {
      "cell_type": "code",
      "execution_count": null,
      "source": [
        "# Create the model with the best hyperparameters\n",
        "from sklearn.naive_bayes import MultinomialNB\n",
        "alpha, fit_prior = grid.best_params_['alpha'], grid.best_params_['fit_prior']\n",
        "model = MultinomialNB(alpha = alpha)\n",
        "\n",
        "model.fit(X_train,y_train)\n",
        "y_pred = model.predict(X_test)\n",
        "\n",
        "from sklearn.metrics import classification_report, accuracy_score\n",
        "print(\"Accuracy:\", round(accuracy_score(y_test,y_pred),3)*100)"
      ],
      "outputs": [
        {
          "output_type": "stream",
          "name": "stdout",
          "text": [
            "Accuracy: 97.5\n"
          ]
        }
      ],
      "metadata": {
        "execution": {
          "iopub.execute_input": "2021-08-10T15:55:23.175715Z",
          "iopub.status.busy": "2021-08-10T15:55:23.174418Z",
          "iopub.status.idle": "2021-08-10T15:55:23.190250Z",
          "shell.execute_reply": "2021-08-10T15:55:23.189647Z"
        },
        "papermill": {
          "duration": 0.05178,
          "end_time": "2021-08-10T15:55:23.190381",
          "exception": false,
          "start_time": "2021-08-10T15:55:23.138601",
          "status": "completed"
        },
        "tags": [],
        "colab": {
          "base_uri": "https://localhost:8080/"
        },
        "id": "convenient-orange",
        "outputId": "99c56845-297e-4df6-d5ea-63bc7fe9c2fc"
      },
      "id": "convenient-orange"
    },
    {
      "cell_type": "code",
      "execution_count": null,
      "source": [
        "import numpy as np\n",
        "df=df.replace(np.nan,'hello how are you')"
      ],
      "outputs": [],
      "metadata": {
        "id": "fL_V_LVORM6N"
      },
      "id": "fL_V_LVORM6N"
    },
    {
      "cell_type": "code",
      "execution_count": null,
      "source": [
        "from sklearn.feature_extraction.text import CountVectorizer\n",
        "\n",
        "vectorizer = CountVectorizer()\n",
        "X = vectorizer.fit_transform(df['text'])\n",
        "print(X.toarray())"
      ],
      "outputs": [
        {
          "output_type": "stream",
          "name": "stdout",
          "text": [
            "[[1 0 0 ... 0 0 0]\n",
            " [0 0 0 ... 0 0 0]\n",
            " [0 0 0 ... 0 0 0]\n",
            " ...\n",
            " [0 0 0 ... 0 0 0]\n",
            " [0 0 0 ... 0 0 0]\n",
            " [0 0 0 ... 0 0 0]]\n"
          ]
        }
      ],
      "metadata": {
        "colab": {
          "base_uri": "https://localhost:8080/"
        },
        "id": "pHKdtsYYRM6N",
        "outputId": "eccab654-057e-4d7d-8703-02a32d7c9c83"
      },
      "id": "pHKdtsYYRM6N"
    },
    {
      "cell_type": "code",
      "execution_count": null,
      "source": [
        "from sklearn.model_selection import train_test_split\n",
        "from sklearn.naive_bayes import GaussianNB\n",
        "X=X.toarray()\n"
      ],
      "outputs": [],
      "metadata": {
        "id": "YIMNic37RM6N"
      },
      "id": "YIMNic37RM6N"
    },
    {
      "cell_type": "code",
      "execution_count": null,
      "source": [
        "from sklearn.tree import DecisionTreeClassifier\n",
        "from sklearn.ensemble import VotingClassifier\n",
        "from sklearn import model_selection\n",
        "from sklearn.metrics import confusion_matrix\n",
        "from sklearn. preprocessing import StandardScaler\n",
        "from sklearn.model_selection import train_test_split\n",
        "from sklearn.ensemble import RandomForestClassifier,AdaBoostClassifier,GradientBoostingClassifier"
      ],
      "outputs": [],
      "metadata": {
        "id": "4nP47l6vRM6O"
      },
      "id": "4nP47l6vRM6O"
    },
    {
      "cell_type": "code",
      "execution_count": null,
      "source": [
        "# Encoding categorical data\n",
        "from sklearn.preprocessing import LabelEncoder, OneHotEncoder\n",
        "labelencoder_X_1 = LabelEncoder()\n",
        "X[:, 1] = labelencoder_X_1.fit_transform(X[:, 1])\n",
        "labelencoder_X_2 = LabelEncoder()\n",
        "X[:, 2] = labelencoder_X_2.fit_transform(X[:, 2])\n",
        "from sklearn.compose import ColumnTransformer\n",
        "ct = ColumnTransformer([(\"Geography\", OneHotEncoder(), [1])], remainder = 'passthrough')\n",
        "X = ct.fit_transform(X)\n",
        "X = X[:, 1:]"
      ],
      "outputs": [],
      "metadata": {
        "id": "nu_ca4tjRM6O"
      },
      "id": "nu_ca4tjRM6O"
    },
    {
      "cell_type": "code",
      "execution_count": null,
      "source": [
        "# Splitting the dataset into the Training set and Test set\n",
        "X_train, X_test, y_train, y_test = train_test_split(X, df['label'], test_size = 0.15, random_state = 0)"
      ],
      "outputs": [],
      "metadata": {
        "id": "DHXeuwAcRM6O"
      },
      "id": "DHXeuwAcRM6O"
    },
    {
      "cell_type": "code",
      "execution_count": null,
      "source": [
        "# Feature Scaling\n",
        "sc = StandardScaler()\n",
        "X_train = sc.fit_transform(X_train)\n",
        "X_test = sc.transform(X_test)"
      ],
      "outputs": [],
      "metadata": {
        "id": "MaTwzkmGRM6O"
      },
      "id": "MaTwzkmGRM6O"
    },
    {
      "cell_type": "markdown",
      "source": [
        "**Ensemble Algorithm**\n",
        "*A single algorithm may not make the perfect prediction for a given dataset. Machine learning algorithms have their limitations and producing a model with high accuracy is challenging. If we build and combine multiple models, the overall accuracy could get boosted. The combination can be implemented by aggregating the output from each model with two objectives: reducing the model error and maintaining its generalization. The way to implement such aggregation is done below:*"
      ],
      "metadata": {
        "id": "aKfDvpBJM-hS"
      },
      "id": "aKfDvpBJM-hS"
    },
    {
      "cell_type": "code",
      "execution_count": null,
      "source": [
        "#Defining Hybrid Ensemble Learning Model\n",
        "# create the sub-models\n",
        "estimators = []"
      ],
      "outputs": [],
      "metadata": {
        "id": "vdyuvgq-RM6P"
      },
      "id": "vdyuvgq-RM6P"
    },
    {
      "cell_type": "code",
      "execution_count": null,
      "source": [
        "#Defining 2 Decision Tree Classifiers\n",
        "model1 = DecisionTreeClassifier(max_depth = 3)\n",
        "estimators.append(('cart1', model1))\n",
        "model2 = DecisionTreeClassifier(max_depth = 4)\n",
        "estimators.append(('cart2', model2))"
      ],
      "outputs": [],
      "metadata": {
        "id": "MGVncbdxRM6P"
      },
      "id": "MGVncbdxRM6P"
    },
    {
      "cell_type": "code",
      "execution_count": null,
      "source": [
        "#Defining 2 Random Forest Classifier\n",
        "model3 = RandomForestClassifier(n_estimators=100, max_features=\"auto\",random_state=0)\n",
        "estimators.append(('rf1', model3))\n",
        "model4 = RandomForestClassifier(n_estimators=100, max_features=\"auto\",random_state=0)\n",
        "estimators.append(('rf2', model4))\n"
      ],
      "outputs": [],
      "metadata": {
        "id": "bykdI0HlRM6P"
      },
      "id": "bykdI0HlRM6P"
    },
    {
      "cell_type": "code",
      "execution_count": null,
      "source": [
        "#Defining 2 AdaBoost Classifier\n",
        "model5 = clf = AdaBoostClassifier(n_estimators=100)\n",
        "estimators.append(('adb1', model5))\n",
        "model6 = clf = AdaBoostClassifier(n_estimators=100)\n",
        "estimators.append(('adb2', model6))"
      ],
      "outputs": [],
      "metadata": {
        "id": "EQ2O6WLGRM6P"
      },
      "id": "EQ2O6WLGRM6P"
    },
    {
      "cell_type": "code",
      "execution_count": null,
      "source": [
        "#Defining 2 Gradient Boosting Classifier\n",
        "model7 = GradientBoostingClassifier(n_estimators=100)\n",
        "estimators.append(('gb1', model7))\n",
        "model8 = GradientBoostingClassifier(n_estimators=100)\n",
        "estimators.append(('gb2', model8))"
      ],
      "outputs": [],
      "metadata": {
        "id": "wKrNDZE2RM6P"
      },
      "id": "wKrNDZE2RM6P"
    },
    {
      "cell_type": "markdown",
      "source": [
        "**Ensemble models** is a machine learning approach to combine multiple other models in the prediction process. Those models are referred to as base estimators."
      ],
      "metadata": {
        "id": "NJTt0NUCMscf"
      },
      "id": "NJTt0NUCMscf"
    },
    {
      "cell_type": "code",
      "execution_count": null,
      "source": [
        "# Defining the ensemble model\n",
        "ensemble = VotingClassifier(estimators)\n",
        "ensemble.fit(X_train, y_train)\n",
        "y_pred = ensemble.predict(X_test)"
      ],
      "outputs": [],
      "metadata": {
        "id": "QAAtDOy4RM6P"
      },
      "id": "QAAtDOy4RM6P"
    },
    {
      "cell_type": "code",
      "execution_count": null,
      "source": [
        "#Confisuin matrix\n",
        "cm_HybridEnsembler = confusion_matrix(y_test, y_pred)\n",
        "print(cm_HybridEnsembler)"
      ],
      "outputs": [
        {
          "output_type": "stream",
          "name": "stdout",
          "text": [
            "[[541   9]\n",
            " [ 24 202]]\n"
          ]
        }
      ],
      "metadata": {
        "colab": {
          "base_uri": "https://localhost:8080/"
        },
        "id": "zkcJInO6RM6P",
        "outputId": "bcf266af-8b97-4d8d-d6c3-4224007515af"
      },
      "id": "zkcJInO6RM6P"
    },
    {
      "cell_type": "code",
      "execution_count": null,
      "source": [
        "#Calculating Accuracy of the Hybrid Model\n",
        "from sklearn.metrics import accuracy_score \n",
        "accuracy_score (y_test,y_pred )"
      ],
      "outputs": [
        {
          "output_type": "execute_result",
          "data": {
            "text/plain": [
              "0.9574742268041238"
            ]
          },
          "metadata": {},
          "execution_count": 76
        }
      ],
      "metadata": {
        "colab": {
          "base_uri": "https://localhost:8080/"
        },
        "id": "vA7_8fEqRM6Q",
        "outputId": "0b7db83d-2f04-4940-fc44-fd52b4f6024f"
      },
      "id": "vA7_8fEqRM6Q"
    }
  ]
}